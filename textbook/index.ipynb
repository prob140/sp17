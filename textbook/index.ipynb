{
 "cells": [
  {
   "cell_type": "markdown",
   "metadata": {},
   "source": [
    "# Computational and Inferential Thinking\n",
    "\n",
    "## The Textbook for the Foundations of Data Science Course\n",
    "\n",
    "This textbook is built using Gitbook and is publicly viewable at http://www.inferentialthinking.com/.\n",
    "\n",
    "Here is a listing of the notebooks used in each chapter (in alphabetical order). You may click on one to view it.\n",
    "\n",
    "### Chapter 1\n",
    "- [Arrays](./notebooks/Arrays.ipynb)\n",
    "- [Calls](./notebooks/Calls.ipynb)\n",
    "- [Categories](./notebooks/Categories.ipynb)\n",
    "- [Comparison](./notebooks/Comparison.ipynb)\n",
    "- [Types](./notebooks/Types.ipynb)\n",
    "- [Growth](./notebooks/Growth.ipynb)\n",
    "- [Books](./notebooks/Books.ipynb)\n",
    "- [Expressions](./notebooks/Expressions.ipynb)\n",
    "- [Functions](./notebooks/Functions.ipynb)\n",
    "- [Names](./notebooks/Names.ipynb)\n",
    "- [Ranges](./notebooks/Ranges.ipynb)\n",
    "- [Collections](./notebooks/Collections.ipynb)\n",
    "- [Tables](./notebooks/Tables.ipynb)\n",
    "\n",
    "### Chapter 2\n",
    "- [Charts](./notebooks/Charts.ipynb)\n",
    "- [Histograms](./notebooks/Histograms.ipynb)\n",
    "\n",
    "### Chapter 3\n",
    "- [Center](./notebooks/Center.ipynb)\n",
    "- [Estimation](./notebooks/Estimation.ipynb)\n",
    "- [Iteration](./notebooks/Iteration.ipynb)\n",
    "- [Normal](./notebooks/Normal.ipynb)\n",
    "- [Privacy](./notebooks/Privacy.ipynb)\n",
    "- [Sampling](./notebooks/Sampling.ipynb)\n",
    "- [Spread](./notebooks/Spread.ipynb)\n",
    "\n",
    "### Chapter 4\n",
    "- [Classification](./notebooks/Classification.ipynb)\n",
    "- [Correlation](./notebooks/Correlation.ipynb)\n",
    "- [Error](./notebooks/Error.ipynb)\n",
    "- [Features](./notebooks/Features.ipynb)\n",
    "- [HOF](./notebooks/HOF.ipynb)\n",
    "- [Multiple](./notebooks/Multiple.ipynb)\n",
    "- [Prediction](./notebooks/Prediction.ipynb)\n",
    "- [Regression](./notebooks/Regression.ipynb)\n",
    "\n",
    "### Chapter 5\n",
    "- [AB](./notebooks/AB.ipynb)\n",
    "- [Confidence](./notebooks/Confidence.ipynb)\n",
    "- [Distance](./notebooks/Distance.ipynb)\n",
    "- [Permutation](./notebooks/Permutation.ipynb)\n",
    "- [RegressionInference](./notebooks/RegressionInference.ipynb)\n",
    "- [Residuals](./notebooks/Residuals.ipynb)\n",
    "- [Testing](./notebooks/Testing.ipynb)\n",
    "\n",
    "### Chapter 6\n",
    "- [Conditional](./notebooks/Conditional.ipynb)\n"
   ]
  },
  {
   "cell_type": "code",
   "execution_count": null,
   "metadata": {
    "collapsed": true
   },
   "outputs": [],
   "source": []
  }
 ],
 "metadata": {
  "anaconda-cloud": {},
  "kernelspec": {
   "display_name": "Python [Root]",
   "language": "python",
   "name": "Python [Root]"
  },
  "language_info": {
   "codemirror_mode": {
    "name": "ipython",
    "version": 3
   },
   "file_extension": ".py",
   "mimetype": "text/x-python",
   "name": "python",
   "nbconvert_exporter": "python",
   "pygments_lexer": "ipython3",
   "version": "3.5.2"
  }
 },
 "nbformat": 4,
 "nbformat_minor": 0
}
